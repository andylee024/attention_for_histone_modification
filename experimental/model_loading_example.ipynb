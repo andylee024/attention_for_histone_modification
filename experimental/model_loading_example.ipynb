{
 "cells": [
  {
   "cell_type": "markdown",
   "metadata": {},
   "source": [
    "# Model Loading Example\n",
    "This notebook provides a experimental code of how to save and load tensorflow models. "
   ]
  },
  {
   "cell_type": "code",
   "execution_count": 1,
   "metadata": {
    "collapsed": false
   },
   "outputs": [
    {
     "name": "stdout",
     "output_type": "stream",
     "text": [
      "Extracting MNIST_data/train-images-idx3-ubyte.gz\n",
      "Extracting MNIST_data/train-labels-idx1-ubyte.gz\n",
      "Extracting MNIST_data/t10k-images-idx3-ubyte.gz\n",
      "Extracting MNIST_data/t10k-labels-idx1-ubyte.gz\n"
     ]
    }
   ],
   "source": [
    "# Load Data\n",
    "from tensorflow.examples.tutorials.mnist import input_data\n",
    "mnist = input_data.read_data_sets('MNIST_data', one_hot=True)\n",
    "import tensorflow as tf"
   ]
  },
  {
   "cell_type": "markdown",
   "metadata": {},
   "source": [
    "## Build a simple model\n",
    "Our first step is to build a simple model for which we want to store."
   ]
  },
  {
   "cell_type": "code",
   "execution_count": 2,
   "metadata": {
    "collapsed": false
   },
   "outputs": [
    {
     "name": "stdout",
     "output_type": "stream",
     "text": [
      "loss for iteration 0 is 0.140000000596\n"
     ]
    }
   ],
   "source": [
    "# Define layers\n",
    "def weight_variable(shape):\n",
    "    initial = tf.truncated_normal(shape, stddev=0.1)\n",
    "    return tf.Variable(initial)\n",
    "\n",
    "def bias_variable(shape):\n",
    "    initial = tf.constant(0.1, shape=shape)\n",
    "    return tf.Variable(initial)\n",
    "\n",
    "def conv2d(x, W):\n",
    "    return tf.nn.conv2d(x, W, strides=[1, 1, 1, 1], padding='SAME')\n",
    "\n",
    "def max_pool_2x2(x):\n",
    "    return tf.nn.max_pool(x, ksize=[1, 2, 2, 1],\n",
    "                        strides=[1, 2, 2, 1], padding='SAME')\n",
    "\n",
    "# build inference graph\n",
    "x = tf.placeholder(tf.float32, shape=[None, 784], name=\"input\")\n",
    "y_ = tf.placeholder(tf.float32, shape=[None, 10], name=\"prediction\")\n",
    "\n",
    "W = tf.Variable(tf.zeros([784,10]))\n",
    "b = tf.Variable(tf.zeros([10]))\n",
    "\n",
    "W_conv1 = weight_variable([5, 5, 1, 32])\n",
    "b_conv1 = bias_variable([32])\n",
    "x_image = tf.reshape(x, [-1,28,28,1])\n",
    "h_conv1 = tf.nn.relu(conv2d(x_image, W_conv1) + b_conv1)\n",
    "h_pool1 = max_pool_2x2(h_conv1)\n",
    "\n",
    "W_conv2 = weight_variable([5, 5, 32, 64])\n",
    "b_conv2 = bias_variable([64])\n",
    "h_conv2 = tf.nn.relu(conv2d(h_pool1, W_conv2) + b_conv2)\n",
    "h_pool2 = max_pool_2x2(h_conv2)\n",
    "\n",
    "W_fc1 = weight_variable([7 * 7 * 64, 1024])\n",
    "b_fc1 = bias_variable([1024])\n",
    "h_pool2_flat = tf.reshape(h_pool2, [-1, 7*7*64])\n",
    "h_fc1 = tf.nn.relu(tf.matmul(h_pool2_flat, W_fc1) + b_fc1)\n",
    "\n",
    "W_fc2 = weight_variable([1024, 10])\n",
    "b_fc2 = bias_variable([10])\n",
    "y_conv = tf.nn.softmax(tf.matmul(h_fc1, W_fc2) + b_fc2, name=\"output\")\n",
    "\n",
    "# build training graph\n",
    "cross_entropy = tf.reduce_mean(-tf.reduce_sum(y_ * tf.log(y_conv), reduction_indices=[1]))\n",
    "train_step = tf.train.GradientDescentOptimizer(1e-4).minimize(cross_entropy)\n",
    "correct_prediction = tf.equal(tf.argmax(y_conv,1), tf.argmax(y_,1))\n",
    "accuracy = tf.reduce_mean(tf.cast(correct_prediction, tf.float32))\n",
    "\n",
    "# run training\n",
    "sess = tf.InteractiveSession()\n",
    "sess.run(tf.global_variables_initializer())\n",
    "\n",
    "# To make this run faster, we'll only run 1,000 iterations of the training process.\n",
    "for i in range(1):\n",
    "    batch = mnist.train.next_batch(50)\n",
    "    predictions, loss = sess.run([y_conv, accuracy], feed_dict={x: batch[0], y_: batch[1]})\n",
    "    print \"loss for iteration {} is {}\".format(i, loss)    "
   ]
  },
  {
   "cell_type": "code",
   "execution_count": null,
   "metadata": {
    "collapsed": false
   },
   "outputs": [],
   "source": []
  },
  {
   "cell_type": "code",
   "execution_count": null,
   "metadata": {
    "collapsed": false
   },
   "outputs": [],
   "source": []
  },
  {
   "cell_type": "markdown",
   "metadata": {},
   "source": [
    "# Save Model"
   ]
  },
  {
   "cell_type": "code",
   "execution_count": 3,
   "metadata": {
    "collapsed": false
   },
   "outputs": [
    {
     "name": "stdout",
     "output_type": "stream",
     "text": [
      "INFO:tensorflow:No assets to save.\n"
     ]
    },
    {
     "name": "stderr",
     "output_type": "stream",
     "text": [
      "INFO:tensorflow:No assets to save.\n"
     ]
    },
    {
     "name": "stdout",
     "output_type": "stream",
     "text": [
      "INFO:tensorflow:No assets to write.\n"
     ]
    },
    {
     "name": "stderr",
     "output_type": "stream",
     "text": [
      "INFO:tensorflow:No assets to write.\n"
     ]
    },
    {
     "name": "stdout",
     "output_type": "stream",
     "text": [
      "INFO:tensorflow:SavedModel written to: /tmp/save_model_directory_test4/saved_model.pb\n"
     ]
    },
    {
     "name": "stderr",
     "output_type": "stream",
     "text": [
      "INFO:tensorflow:SavedModel written to: /tmp/save_model_directory_test4/saved_model.pb\n"
     ]
    },
    {
     "data": {
      "text/plain": [
       "'/tmp/save_model_directory_test4/saved_model.pb'"
      ]
     },
     "execution_count": 3,
     "metadata": {},
     "output_type": "execute_result"
    }
   ],
   "source": [
    "# Create prediction signature\n",
    "tensor_info_x = tf.saved_model.utils.build_tensor_info(x)\n",
    "tensor_info_y = tf.saved_model.utils.build_tensor_info(y_)\n",
    "\n",
    "prediction_signature = tf.saved_model.signature_def_utils.build_signature_def(\n",
    "          inputs={'x': tensor_info_x},\n",
    "          outputs={'y': tensor_info_y},\n",
    "          method_name=\"prediction_signature\")\n",
    "\n",
    "# Saving\n",
    "export_dir = \"/tmp/save_model_directory_test4\"\n",
    "builder = tf.saved_model.builder.SavedModelBuilder(export_dir)\n",
    "builder.add_meta_graph_and_variables(sess,\n",
    "                                     [\"tag\"], \n",
    "                                     signature_def_map={\"predict\": prediction_signature})\n",
    "builder.save()"
   ]
  },
  {
   "cell_type": "markdown",
   "metadata": {
    "collapsed": true
   },
   "source": [
    "# Load Model"
   ]
  },
  {
   "cell_type": "code",
   "execution_count": 4,
   "metadata": {
    "collapsed": false
   },
   "outputs": [
    {
     "name": "stdout",
     "output_type": "stream",
     "text": [
      "INFO:tensorflow:Restoring parameters from /tmp/save_model_directory_test4/variables/variables\n"
     ]
    },
    {
     "name": "stderr",
     "output_type": "stream",
     "text": [
      "INFO:tensorflow:Restoring parameters from /tmp/save_model_directory_test4/variables/variables\n"
     ]
    }
   ],
   "source": [
    "with tf.Session(graph=tf.Graph()) as sess1:\n",
    "    tf.saved_model.loader.load(sess1, [\"tag\"], export_dir)\n",
    "    graph = tf.get_default_graph()\n",
    "    x = graph.get_tensor_by_name(\"input:0\")\n",
    "    y = graph.get_tensor_by_name(\"output:0\")\n",
    "    \n",
    "    y_hat = sess1.run(fetches=y, feed_dict={x: batch[0]})"
   ]
  },
  {
   "cell_type": "code",
   "execution_count": 10,
   "metadata": {
    "collapsed": false
   },
   "outputs": [
    {
     "data": {
      "text/plain": [
       "array([  7.70880608e-04,   2.91431410e-04,   2.49422248e-02,\n",
       "         2.08109291e-03,   9.95373204e-02,   3.54229063e-02,\n",
       "         2.72273435e-04,   1.69640480e-04,   1.24033010e-02,\n",
       "         8.24108899e-01], dtype=float32)"
      ]
     },
     "execution_count": 10,
     "metadata": {},
     "output_type": "execute_result"
    }
   ],
   "source": [
    "predictions[0]"
   ]
  },
  {
   "cell_type": "code",
   "execution_count": 9,
   "metadata": {
    "collapsed": false
   },
   "outputs": [
    {
     "data": {
      "text/plain": [
       "array([  7.70880608e-04,   2.91431410e-04,   2.49422248e-02,\n",
       "         2.08109291e-03,   9.95373204e-02,   3.54229063e-02,\n",
       "         2.72273435e-04,   1.69640480e-04,   1.24033010e-02,\n",
       "         8.24108899e-01], dtype=float32)"
      ]
     },
     "execution_count": 9,
     "metadata": {},
     "output_type": "execute_result"
    }
   ],
   "source": [
    "y_hat[0]"
   ]
  },
  {
   "cell_type": "code",
   "execution_count": null,
   "metadata": {
    "collapsed": true
   },
   "outputs": [],
   "source": []
  },
  {
   "cell_type": "markdown",
   "metadata": {
    "collapsed": false
   },
   "source": [
    "# Load Saved Attention Model\n",
    "This section provides prototyping code for loading a trained attention model."
   ]
  },
  {
   "cell_type": "code",
   "execution_count": 18,
   "metadata": {
    "collapsed": false
   },
   "outputs": [],
   "source": [
    "import os\n",
    "import tensorflow as tf"
   ]
  },
  {
   "cell_type": "markdown",
   "metadata": {},
   "source": [
    "## Load dataset\n",
    "Load a dataset for evaluating the model."
   ]
  },
  {
   "cell_type": "code",
   "execution_count": 19,
   "metadata": {
    "collapsed": true
   },
   "outputs": [],
   "source": [
    "from komorebi.libs.dataset.types.dataset_config import DatasetConfiguration\n",
    "from komorebi.libs.dataset.types.tf_dataset_wrapper import tf_dataset_wrapper \n",
    "from komorebi.libs.trainer.trainer_utils import compute_number_of_batches, get_data_stream_for_epoch\n",
    "\n",
    "# load dataset\n",
    "dataset_config = DatasetConfiguration(\n",
    "    dataset_name='validation_dataset', \n",
    "    examples_directory='/Users/andy/Projects/attention_histone_modification/datasets/attention_validation_tf_dataset')\n",
    "\n",
    "dataset = tf_dataset_wrapper(dataset_config)\n",
    "\n",
    "# build iterator\n",
    "dataset.build_input_pipeline_iterator(batch_size=1,\n",
    "                                      buffer_size=100,\n",
    "                                      parallel_calls=1)"
   ]
  },
  {
   "cell_type": "code",
   "execution_count": null,
   "metadata": {
    "collapsed": true
   },
   "outputs": [],
   "source": []
  },
  {
   "cell_type": "markdown",
   "metadata": {},
   "source": [
    "## Load Saved Model\n",
    "Take a trained model and load it into memory and predict on examples."
   ]
  },
  {
   "cell_type": "code",
   "execution_count": 23,
   "metadata": {
    "collapsed": false
   },
   "outputs": [
    {
     "name": "stdout",
     "output_type": "stream",
     "text": [
      "INFO:tensorflow:Restoring parameters from /tmp/attention_experiment_test/trained_model/variables/variables\n"
     ]
    },
    {
     "name": "stderr",
     "output_type": "stream",
     "text": [
      "INFO:tensorflow:Restoring parameters from /tmp/attention_experiment_test/trained_model/variables/variables\n"
     ]
    }
   ],
   "source": [
    "saved_model_dir = \"/tmp/attention_experiment_test/trained_model\"\n",
    "\n",
    "# load model\n",
    "with tf.Session(graph=tf.Graph()) as sess:\n",
    "    serving_tag = tf.saved_model.tag_constants.SERVING\n",
    "    tf.saved_model.loader.load(sess=sess, tags=[serving_tag], export_dir=saved_model_dir)\n",
    "    graph = tf.get_default_graph()\n",
    "    ops = [n.name for n in graph.as_graph_def().node]\n",
    "    \n",
    "    "
   ]
  },
  {
   "cell_type": "code",
   "execution_count": 40,
   "metadata": {
    "collapsed": false
   },
   "outputs": [],
   "source": [
    "def find_substring(query, ops):\n",
    "    matches = []\n",
    "    for op in ops:\n",
    "        if query in op:\n",
    "            matches.append(op)\n",
    "    return matches\n",
    "\n",
    "# get ops\n",
    "sequence_op = find_substring(\"sequence\", ops)\n",
    "feature_op = find_substring(\"feature\", ops)\n",
    "context_op = find_substring(\"context\", ops)\n",
    "logit_op = find_substring(\"logit\", ops)\n",
    "prediction_op = find_substring(\"prediction\", ops)"
   ]
  },
  {
   "cell_type": "code",
   "execution_count": 38,
   "metadata": {
    "collapsed": false
   },
   "outputs": [
    {
     "data": {
      "text/plain": [
       "[u'decode_lstm/logits',\n",
       " u'optimizer/gradients/decode_lstm/logits_grad/Shape',\n",
       " u'optimizer/gradients/decode_lstm/logits_grad/Shape_1',\n",
       " u'optimizer/gradients/decode_lstm/logits_grad/BroadcastGradientArgs',\n",
       " u'optimizer/gradients/decode_lstm/logits_grad/Sum',\n",
       " u'optimizer/gradients/decode_lstm/logits_grad/Reshape',\n",
       " u'optimizer/gradients/decode_lstm/logits_grad/Sum_1',\n",
       " u'optimizer/gradients/decode_lstm/logits_grad/Reshape_1',\n",
       " u'optimizer/gradients/decode_lstm/logits_grad/tuple/group_deps',\n",
       " u'optimizer/gradients/decode_lstm/logits_grad/tuple/control_dependency',\n",
       " u'optimizer/gradients/decode_lstm/logits_grad/tuple/control_dependency_1',\n",
       " u'decode_lstm_1/logits']"
      ]
     },
     "execution_count": 38,
     "metadata": {},
     "output_type": "execute_result"
    }
   ],
   "source": [
    "features = graph.get_tensor_by_name(\"features\")\n",
    "sequences = graph.get_tensor_by_name(\"sequences\")\n",
    "logits = graph.get_tensor_by_name(\"decode_lstm/logits\")\n",
    "sess.run(op_to_restore,feed_dict)"
   ]
  },
  {
   "cell_type": "code",
   "execution_count": 42,
   "metadata": {
    "collapsed": false
   },
   "outputs": [
    {
     "data": {
      "text/plain": [
       "[u'context',\n",
       " u'decode_lstm/w_context/Initializer/random_uniform/shape',\n",
       " u'decode_lstm/w_context/Initializer/random_uniform/min',\n",
       " u'decode_lstm/w_context/Initializer/random_uniform/max',\n",
       " u'decode_lstm/w_context/Initializer/random_uniform/RandomUniform',\n",
       " u'decode_lstm/w_context/Initializer/random_uniform/sub',\n",
       " u'decode_lstm/w_context/Initializer/random_uniform/mul',\n",
       " u'decode_lstm/w_context/Initializer/random_uniform',\n",
       " u'decode_lstm/w_context',\n",
       " u'decode_lstm/w_context/Assign',\n",
       " u'decode_lstm/w_context/read',\n",
       " u'optimizer/gradients/context_grad/Shape',\n",
       " u'optimizer/gradients/context_grad/ScatterNd',\n",
       " u'decode_lstm/w_context/Adam/Initializer/zeros',\n",
       " u'decode_lstm/w_context/Adam',\n",
       " u'decode_lstm/w_context/Adam/Assign',\n",
       " u'decode_lstm/w_context/Adam/read',\n",
       " u'decode_lstm/w_context/Adam_1/Initializer/zeros',\n",
       " u'decode_lstm/w_context/Adam_1',\n",
       " u'decode_lstm/w_context/Adam_1/Assign',\n",
       " u'decode_lstm/w_context/Adam_1/read',\n",
       " u'optimizer/Adam/update_decode_lstm/w_context/ApplyAdam',\n",
       " u'context_1']"
      ]
     },
     "execution_count": 42,
     "metadata": {},
     "output_type": "execute_result"
    }
   ],
   "source": [
    "context_op"
   ]
  },
  {
   "cell_type": "code",
   "execution_count": null,
   "metadata": {
    "collapsed": true
   },
   "outputs": [],
   "source": []
  }
 ],
 "metadata": {
  "kernelspec": {
   "display_name": "Python 2",
   "language": "python",
   "name": "python2"
  },
  "language_info": {
   "codemirror_mode": {
    "name": "ipython",
    "version": 2
   },
   "file_extension": ".py",
   "mimetype": "text/x-python",
   "name": "python",
   "nbconvert_exporter": "python",
   "pygments_lexer": "ipython2",
   "version": "2.7.13"
  }
 },
 "nbformat": 4,
 "nbformat_minor": 0
}
