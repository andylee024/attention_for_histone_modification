{
 "cells": [
  {
   "cell_type": "markdown",
   "metadata": {},
   "source": [
    "# Compare dataset types\n",
    "This notebook contains code that compares the run time of querying dataset types. "
   ]
  },
  {
   "cell_type": "code",
   "execution_count": 1,
   "metadata": {
    "collapsed": true
   },
   "outputs": [],
   "source": [
    "# imports\n",
    "import numpy as np\n",
    "import tensorflow as tf\n",
    "import time\n",
    "from komorebi.libs.utilities.io_utils import load_pickle_object\n",
    "import random"
   ]
  },
  {
   "cell_type": "markdown",
   "metadata": {},
   "source": [
    "## Sharded Implementation"
   ]
  },
  {
   "cell_type": "code",
   "execution_count": 2,
   "metadata": {
    "collapsed": false
   },
   "outputs": [],
   "source": [
    "sharded_dataset_path = \"/Users/andy/Projects/biology/research/komorebi/data/attention_validation_dataset/sharded_attention_dataset.pkl\"\n",
    "sharded_dataset = load_pickle_object(sharded_dataset_path)\n",
    "\n",
    "sharded_times = []\n",
    "indices = [random.randint(0, 7999) for _ in xrange(100)]\n",
    "\n",
    "for i in range(2):\n",
    "    sharded_ts = time.time()\n",
    "    sharded_dataset.get_training_examples(indices)\n",
    "    sharded_te = time.time()\n",
    "    sharded_times.append(sharded_te-sharded_ts) "
   ]
  },
  {
   "cell_type": "markdown",
   "metadata": {},
   "source": [
    "## Tensorflow implementation"
   ]
  },
  {
   "cell_type": "code",
   "execution_count": 4,
   "metadata": {
    "collapsed": false
   },
   "outputs": [],
   "source": [
    "SEQUENCE_SHAPE = (1000, 4)\n",
    "ANNOTATION_SHAPE = (75, 320)\n",
    "\n",
    "def parse_example(tf_example):\n",
    "    \"\"\"Parse tensorflow example\"\"\"\n",
    "    \n",
    "    features_map = {\n",
    "        'sequence_raw': tf.FixedLenFeature([], tf.string),\n",
    "        'label_raw': tf.FixedLenFeature([], tf.string),\n",
    "        'annotation_raw': tf.FixedLenFeature([], tf.string)}\n",
    "    \n",
    "    parsed_example = tf.parse_single_example(tf_example, features_map)\n",
    "    \n",
    "    sequence_raw = tf.decode_raw(parsed_example['sequence_raw'], tf.uint8)\n",
    "    annotation_raw = tf.decode_raw(parsed_example['annotation_raw'], tf.float32)\n",
    "    \n",
    "    sequence = tf.reshape(sequence_raw, SEQUENCE_SHAPE)\n",
    "    label = tf.decode_raw(parsed_example['label_raw'], tf.uint8)\n",
    "    annotation = tf.reshape(annotation_raw, ANNOTATION_SHAPE)\n",
    "    \n",
    "    return {'sequence': sequence, 'label': label, 'annotation': annotation}\n",
    "\n",
    "TF_VALIDATION_DATASET = \"/tmp/validation_dataset.tfrecord\"\n",
    "tf_dataset = tf.data.TFRecordDataset([TF_VALIDATION_DATASET])\n",
    "tf_dataset = tf_dataset.prefetch(8000) #buffer size\n",
    "tf_dataset = tf_dataset.map(parse_example, num_parallel_calls=6)\n",
    "iterator = tf_dataset.make_one_shot_iterator()\n",
    "next_element = iterator.get_next()\n",
    "\n",
    "batched_dataset = tf_dataset.batch(100)\n",
    "batched_iter = batched_dataset.make_one_shot_iterator()"
   ]
  },
  {
   "cell_type": "code",
   "execution_count": 5,
   "metadata": {
    "collapsed": false
   },
   "outputs": [
    {
     "name": "stdout",
     "output_type": "stream",
     "text": [
      "(100, 1000, 4) (100, 75, 320) (100, 919)\n",
      "(100, 1000, 4) (100, 75, 320) (100, 919)\n",
      "(100, 1000, 4) (100, 75, 320) (100, 919)\n",
      "(100, 1000, 4) (100, 75, 320) (100, 919)\n",
      "(100, 1000, 4) (100, 75, 320) (100, 919)\n",
      "(100, 1000, 4) (100, 75, 320) (100, 919)\n",
      "(100, 1000, 4) (100, 75, 320) (100, 919)\n"
     ]
    }
   ],
   "source": [
    "sess = tf.InteractiveSession()\n",
    "tf_times = []\n",
    "\n",
    "for _ in range(7):\n",
    "    tf_ts = time.time()\n",
    "    batched_next = batched_iter.get_next()\n",
    "    b_sequence = batched_next['sequence']\n",
    "    b_annotation = batched_next['annotation']\n",
    "    b_label = batched_next['label']\n",
    "    print b_sequence.eval().shape, b_annotation.eval().shape, b_label.eval().shape\n",
    "    tf_te = time.time()\n",
    "    tf_times.append(tf_te - tf_ts)\n",
    "\n",
    "sess.close()"
   ]
  },
  {
   "cell_type": "code",
   "execution_count": 6,
   "metadata": {
    "collapsed": false
   },
   "outputs": [
    {
     "name": "stdout",
     "output_type": "stream",
     "text": [
      "[4.647903919219971, 0.03866004943847656, 0.039613962173461914, 0.038726091384887695, 0.04016900062561035, 0.03953218460083008, 0.03882098197937012]\n"
     ]
    }
   ],
   "source": [
    "#print sharded_times\n",
    "print tf_times"
   ]
  },
  {
   "cell_type": "code",
   "execution_count": null,
   "metadata": {
    "collapsed": true
   },
   "outputs": [],
   "source": []
  }
 ],
 "metadata": {
  "kernelspec": {
   "display_name": "Python 2",
   "language": "python",
   "name": "python2"
  },
  "language_info": {
   "codemirror_mode": {
    "name": "ipython",
    "version": 2
   },
   "file_extension": ".py",
   "mimetype": "text/x-python",
   "name": "python",
   "nbconvert_exporter": "python",
   "pygments_lexer": "ipython2",
   "version": "2.7.13"
  }
 },
 "nbformat": 4,
 "nbformat_minor": 0
}
