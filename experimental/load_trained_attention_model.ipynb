{
 "cells": [
  {
   "cell_type": "markdown",
   "metadata": {},
   "source": [
    "# Load Trained Attention Model\n",
    "This notebook contains prototype code for loading a trained attention model."
   ]
  },
  {
   "cell_type": "code",
   "execution_count": 42,
   "metadata": {
    "collapsed": true
   },
   "outputs": [],
   "source": [
    "import os\n",
    "import tensorflow as tf\n",
    "\n",
    "from komorebi.libs.dataset.types.dataset_config import DatasetConfiguration\n",
    "from komorebi.libs.dataset.types.tf_dataset_wrapper import tf_dataset_wrapper \n",
    "from komorebi.libs.trainer.trainer_utils import compute_number_of_batches, get_data_stream_for_epoch"
   ]
  },
  {
   "cell_type": "markdown",
   "metadata": {},
   "source": [
    "## Load dataset examples"
   ]
  },
  {
   "cell_type": "code",
   "execution_count": 43,
   "metadata": {
    "collapsed": false
   },
   "outputs": [
    {
     "ename": "AttributeError",
     "evalue": "'tf_dataset_wrapper' object has no attribute 'build_one_shot_iterator'",
     "output_type": "error",
     "traceback": [
      "\u001b[0;31m---------------------------------------------------------------------------\u001b[0m",
      "\u001b[0;31mAttributeError\u001b[0m                            Traceback (most recent call last)",
      "\u001b[0;32m<ipython-input-43-ee3fb1c26e60>\u001b[0m in \u001b[0;36m<module>\u001b[0;34m()\u001b[0m\n\u001b[1;32m      8\u001b[0m \u001b[0;34m\u001b[0m\u001b[0m\n\u001b[1;32m      9\u001b[0m \u001b[0;31m# build dataset iterator\u001b[0m\u001b[0;34m\u001b[0m\u001b[0;34m\u001b[0m\u001b[0m\n\u001b[0;32m---> 10\u001b[0;31m \u001b[0mdataset\u001b[0m\u001b[0;34m.\u001b[0m\u001b[0mbuild_one_shot_iterator\u001b[0m\u001b[0;34m(\u001b[0m\u001b[0;34m)\u001b[0m\u001b[0;34m\u001b[0m\u001b[0m\n\u001b[0m\u001b[1;32m     11\u001b[0m \u001b[0mdata_stream_op\u001b[0m \u001b[0;34m=\u001b[0m \u001b[0mdataset\u001b[0m\u001b[0;34m.\u001b[0m\u001b[0miterator\u001b[0m\u001b[0;34m.\u001b[0m\u001b[0mget_next\u001b[0m\u001b[0;34m(\u001b[0m\u001b[0;34m)\u001b[0m\u001b[0;34m\u001b[0m\u001b[0m\n\u001b[1;32m     12\u001b[0m \u001b[0;34m\u001b[0m\u001b[0m\n",
      "\u001b[0;31mAttributeError\u001b[0m: 'tf_dataset_wrapper' object has no attribute 'build_one_shot_iterator'"
     ]
    }
   ],
   "source": [
    "# create dataset configuration\n",
    "dataset_config = DatasetConfiguration(\n",
    "    dataset_name='validation_dataset', \n",
    "    examples_directory='/Users/andy/Projects/attention_histone_modification/datasets/attention_validation_tf_dataset')\n",
    "\n",
    "# instantiate dataset\n",
    "dataset = tf_dataset_wrapper(dataset_config)\n",
    "\n",
    "# build dataset iterator\n",
    "dataset.build_one_shot_iterator()\n",
    "data_stream_op = dataset.iterator.get_next()\n",
    "\n",
    "# run iterator through session to get examples\n",
    "with tf.Session() as sess:\n",
    "    init_op = tf.global_variables_initializer()\n",
    "    data_stream_op = get_data_stream_for_epoch(dataset, sess)\n",
    "    data = sess.run(data_stream_op)\n",
    "    "
   ]
  },
  {
   "cell_type": "code",
   "execution_count": 17,
   "metadata": {
    "collapsed": true
   },
   "outputs": [],
   "source": [
    "sequence_data = data['sequence']\n",
    "annotation_data = data['annotation']\n",
    "label_data = data['label']"
   ]
  },
  {
   "cell_type": "code",
   "execution_count": 18,
   "metadata": {
    "collapsed": false
   },
   "outputs": [
    {
     "data": {
      "text/plain": [
       "(1, 75, 320)"
      ]
     },
     "execution_count": 18,
     "metadata": {},
     "output_type": "execute_result"
    }
   ],
   "source": [
    "annotation_data.shape"
   ]
  },
  {
   "cell_type": "markdown",
   "metadata": {},
   "source": [
    "## Load trained model"
   ]
  },
  {
   "cell_type": "code",
   "execution_count": 36,
   "metadata": {
    "collapsed": true
   },
   "outputs": [],
   "source": [
    "# specify directory of saved model\n",
    "saved_model_dir_4 = \"/tmp/attention_experiment_test/trained_model\" #(4 iterations)\n",
    "saved_model_dir_2 = \"/tmp/attention_experiment_test_2_iters/trained_model\" #(2 iterations)\n",
    "saved_model_dir = saved_model_dir_4"
   ]
  },
  {
   "cell_type": "code",
   "execution_count": 37,
   "metadata": {
    "collapsed": false
   },
   "outputs": [
    {
     "name": "stdout",
     "output_type": "stream",
     "text": [
      "INFO:tensorflow:Restoring parameters from /tmp/attention_experiment_test/trained_model/variables/variables\n"
     ]
    },
    {
     "name": "stderr",
     "output_type": "stream",
     "text": [
      "INFO:tensorflow:Restoring parameters from /tmp/attention_experiment_test/trained_model/variables/variables\n"
     ]
    }
   ],
   "source": [
    "# load graph\n",
    "with tf.Session(graph=tf.Graph()) as prediction_sess:\n",
    "    serving_tag = tf.saved_model.tag_constants.SERVING\n",
    "    tf.saved_model.loader.load(sess=prediction_sess, tags=[serving_tag], export_dir=saved_model_dir)\n",
    "    \n",
    "    graph = tf.get_default_graph()\n",
    "    \n",
    "    # get ops\n",
    "    # sequence_ph = graph.get_tensor_by_name(\"sequences_1:0\") # this works\n",
    "    sequence_ph = graph.get_tensor_by_name(\"model_inputs/sequences:0\") # trying to see if this works\n",
    "    feature_ph = graph.get_tensor_by_name(\"model_inputs/features:0\")\n",
    "    logit_op = graph.get_tensor_by_name(\"decode_lstm/logits:0\")\n",
    "    \n",
    "    # make predictions\n",
    "    logits1 = prediction_sess.run(logit_op, feed_dict={sequence_ph: sequence_data, feature_ph: annotation_data})\n",
    "    logits2 = prediction_sess.run(logit_op, feed_dict={sequence_ph: sequence_data, feature_ph: annotation_data})"
   ]
  },
  {
   "cell_type": "code",
   "execution_count": 21,
   "metadata": {
    "collapsed": false
   },
   "outputs": [
    {
     "data": {
      "text/plain": [
       "True"
      ]
     },
     "execution_count": 21,
     "metadata": {},
     "output_type": "execute_result"
    }
   ],
   "source": [
    "import numpy as np\n",
    "np.array_equal(logits1, logits2)"
   ]
  },
  {
   "cell_type": "markdown",
   "metadata": {
    "collapsed": false
   },
   "source": [
    "## Ops inspection\n",
    "\n",
    "2 iterations produces 126810 ops \n",
    "\n",
    "4 iterations produces 126812 ops"
   ]
  },
  {
   "cell_type": "code",
   "execution_count": 22,
   "metadata": {
    "collapsed": true
   },
   "outputs": [],
   "source": [
    "def find_substring(query, ops):\n",
    "    matches = []\n",
    "    for op in ops:\n",
    "        if query in op:\n",
    "            matches.append(op)\n",
    "    return matches"
   ]
  },
  {
   "cell_type": "code",
   "execution_count": 35,
   "metadata": {
    "collapsed": true
   },
   "outputs": [],
   "source": [
    "import copy\n",
    "ops_iter2 = copy.deepcopy([n.name for n in graph.as_graph_def().node])\n",
    "\n",
    "# get ops\n",
    "sequence_op = find_substring(\"sequence\", ops)\n",
    "feature_op = find_substring(\"feature\", ops)\n",
    "context_op = find_substring(\"context\", ops)\n",
    "logit_op = find_substring(\"logit\", ops)\n",
    "prediction_op = find_substring(\"prediction\", ops)"
   ]
  },
  {
   "cell_type": "code",
   "execution_count": 38,
   "metadata": {
    "collapsed": false
   },
   "outputs": [],
   "source": [
    "ops_iter4 = copy.deepcopy([n.name for n in graph.as_graph_def().node])"
   ]
  },
  {
   "cell_type": "code",
   "execution_count": null,
   "metadata": {
    "collapsed": false
   },
   "outputs": [],
   "source": []
  },
  {
   "cell_type": "code",
   "execution_count": 39,
   "metadata": {
    "collapsed": false
   },
   "outputs": [
    {
     "name": "stdout",
     "output_type": "stream",
     "text": [
      "126810\n",
      "126812\n"
     ]
    }
   ],
   "source": [
    "print len(ops_iter2)\n",
    "print len(ops_iter4)"
   ]
  },
  {
   "cell_type": "code",
   "execution_count": 41,
   "metadata": {
    "collapsed": false
   },
   "outputs": [
    {
     "name": "stdout",
     "output_type": "stream",
     "text": [
      "IteratorGetNext_2\n",
      "IteratorGetNext_3\n"
     ]
    }
   ],
   "source": [
    "d_two = {k: 0 for k in ops_iter2}\n",
    "for o in ops_iter4:\n",
    "    if o not in d_two:\n",
    "        print o"
   ]
  },
  {
   "cell_type": "code",
   "execution_count": null,
   "metadata": {
    "collapsed": true
   },
   "outputs": [],
   "source": []
  }
 ],
 "metadata": {
  "kernelspec": {
   "display_name": "Python 2",
   "language": "python",
   "name": "python2"
  },
  "language_info": {
   "codemirror_mode": {
    "name": "ipython",
    "version": 2
   },
   "file_extension": ".py",
   "mimetype": "text/x-python",
   "name": "python",
   "nbconvert_exporter": "python",
   "pygments_lexer": "ipython2",
   "version": "2.7.13"
  }
 },
 "nbformat": 4,
 "nbformat_minor": 0
}
