{
 "cells": [
  {
   "cell_type": "code",
   "execution_count": 27,
   "metadata": {
    "collapsed": false
   },
   "outputs": [],
   "source": [
    "import time\n",
    "import tensorflow as tf\n",
    "import numpy as np\n",
    "import os\n",
    "\n",
    "\n",
    "# get paths to tf records\n",
    "tf_dataset_directory = \"/Users/andy/Projects/biology/research/komorebi/data/attention_validation_tf_dataset\"\n",
    "tf_record_paths = [os.path.join(tf_dataset_directory, tf_record) for tf_record in os.listdir(tf_dataset_directory)]\n",
    "\n",
    "num_epochs = 2\n",
    "num_samples = len(tf_record_paths)\n",
    "buffer_size = 2000\n",
    "batch_size = 100"
   ]
  },
  {
   "cell_type": "code",
   "execution_count": 18,
   "metadata": {
    "collapsed": true
   },
   "outputs": [],
   "source": [
    "SEQUENCE_SHAPE = (1000, 4)\n",
    "ANNOTATION_SHAPE = (75, 320)\n",
    "\n",
    "def parse_example(tf_example):\n",
    "    \"\"\"Parse tensorflow example\"\"\"\n",
    "    \n",
    "    features_map = {\n",
    "        'sequence_raw': tf.FixedLenFeature([], tf.string),\n",
    "        'label_raw': tf.FixedLenFeature([], tf.string),\n",
    "        'annotation_raw': tf.FixedLenFeature([], tf.string)}\n",
    "    \n",
    "    parsed_example = tf.parse_single_example(tf_example, features_map)\n",
    "    \n",
    "    sequence_raw = tf.decode_raw(parsed_example['sequence_raw'], tf.uint8)\n",
    "    annotation_raw = tf.decode_raw(parsed_example['annotation_raw'], tf.float32)\n",
    "    \n",
    "    sequence = tf.reshape(sequence_raw, SEQUENCE_SHAPE)\n",
    "    label = tf.decode_raw(parsed_example['label_raw'], tf.uint8)\n",
    "    annotation = tf.reshape(annotation_raw, ANNOTATION_SHAPE)\n",
    "    \n",
    "    return {'sequence': sequence, 'label': label, 'annotation': annotation}"
   ]
  },
  {
   "cell_type": "code",
   "execution_count": 19,
   "metadata": {
    "collapsed": true
   },
   "outputs": [],
   "source": [
    "# specify dataset initialization\n",
    "filenames_op = tf.placeholder(tf.string, shape=[None])\n",
    "tf_dataset = tf.data.TFRecordDataset(filenames_op)\n",
    "tf_dataset = tf_dataset.prefetch(buffer_size)\n",
    "tf_dataset = tf_dataset.map(parse_example, num_parallel_calls=6)\n",
    "tf_dataset = tf_dataset.batch(batch_size)\n",
    "\n",
    "iterator = tf_dataset.make_initializable_iterator()"
   ]
  },
  {
   "cell_type": "code",
   "execution_count": 28,
   "metadata": {
    "collapsed": false
   },
   "outputs": [
    {
     "name": "stdout",
     "output_type": "stream",
     "text": [
      "Starting epoch 0\n",
      "Starting epoch 1\n"
     ]
    }
   ],
   "source": [
    "# run iteration\n",
    "ds_init_times = []\n",
    "epoch_times = []\n",
    "\n",
    "with tf.Session() as sess:\n",
    "\n",
    "    # epoch loop\n",
    "    for epoch in range(num_epochs):\n",
    "        print \"Starting epoch {}\".format(epoch)\n",
    "        try:\n",
    "            ds_init_ts = time.time()\n",
    "            \n",
    "            np.random.shuffle(tf_record_paths)\n",
    "            sess.run(iterator.initializer, {filenames_op: tf_record_paths})\n",
    "            \n",
    "            ds_init_te = time.time()\n",
    "            ds_init_times.append(ds_init_te - ds_init_ts)\n",
    "\n",
    "            # iteration loop\n",
    "            epoch_ts = time.time()\n",
    "            for i in xrange(num_samples):\n",
    "                feed_dict = sess.run(iterator.get_next())\n",
    "            \n",
    "        except tf.errors.OutOfRangeError:\n",
    "            epoch_te = time.time()\n",
    "            epoch_times.append(epoch_te - epoch_ts)\n",
    "            continue\n",
    "        \n",
    "        "
   ]
  },
  {
   "cell_type": "code",
   "execution_count": 30,
   "metadata": {
    "collapsed": false
   },
   "outputs": [
    {
     "data": {
      "text/plain": [
       "[0.07898998260498047, 0.005075216293334961]"
      ]
     },
     "execution_count": 30,
     "metadata": {},
     "output_type": "execute_result"
    }
   ],
   "source": [
    "ds_init_times"
   ]
  },
  {
   "cell_type": "code",
   "execution_count": null,
   "metadata": {
    "collapsed": true
   },
   "outputs": [],
   "source": []
  }
 ],
 "metadata": {
  "kernelspec": {
   "display_name": "Python 2",
   "language": "python",
   "name": "python2"
  },
  "language_info": {
   "codemirror_mode": {
    "name": "ipython",
    "version": 2
   },
   "file_extension": ".py",
   "mimetype": "text/x-python",
   "name": "python",
   "nbconvert_exporter": "python",
   "pygments_lexer": "ipython2",
   "version": "2.7.13"
  }
 },
 "nbformat": 4,
 "nbformat_minor": 0
}
